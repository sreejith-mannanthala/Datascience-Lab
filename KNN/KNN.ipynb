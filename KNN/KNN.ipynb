{
 "cells": [
  {
   "cell_type": "code",
   "execution_count": 16,
   "id": "52b6acd1",
   "metadata": {},
   "outputs": [
    {
     "name": "stdout",
     "output_type": "stream",
     "text": [
      "768\n",
      "   Pregnancies  Glucose  BloodPressure  SkinThickness  Insulin   BMI  \\\n",
      "0            6      148             72             35        0  33.6   \n",
      "1            1       85             66             29        0  26.6   \n",
      "2            8      183             64              0        0  23.3   \n",
      "3            1       89             66             23       94  28.1   \n",
      "4            0      137             40             35      168  43.1   \n",
      "\n",
      "   DiabetesPedigreeFunction  Age  Outcome  \n",
      "0                     0.627   50        1  \n",
      "1                     0.351   31        0  \n",
      "2                     0.672   32        1  \n",
      "3                     0.167   21        0  \n",
      "4                     2.288   33        1  \n",
      "[1 0 0 1 0 0 1 1 0 0 1 1 0 0 0 0 1 0 0 0 1 0 0 0 0 0 0 1 0 0 1 0 0 1 0 1 0\n",
      " 0 0 1 0 0 0 1 1 0 0 0 0 0 1 0 1 1 0 0 0 1 0 1 1 0 0 1 1 1 1 0 0 0 0 0 0 1\n",
      " 1 0 0 1 0 0 0 0 0 0 0 0 0 0 1 0 0 0 0 0 1 0 0 1 1 1 0 0 0 0 1 1 0 1 0 1 0\n",
      " 0 1 1 1 1 0 0 0 1 0 0 0 0 0 0 0 0 0 0 0 0 0 0 0 1 0 0 0 0 0 1 0 0 1 0 0 0\n",
      " 0 0 0 0 0 0]\n",
      "[[94 13]\n",
      " [15 32]]\n",
      "0.6956521739130436\n",
      "0.8181818181818182\n"
     ]
    }
   ],
   "source": [
    "import pandas as pd\n",
    "import numpy as np\n",
    "from sklearn.model_selection import train_test_split\n",
    "from sklearn.preprocessing import StandardScaler\n",
    "from sklearn.neighbors import KNeighborsClassifier\n",
    "from sklearn.metrics import confusion_matrix\n",
    "from sklearn.metrics import f1_score\n",
    "from sklearn.metrics import accuracy_score\n",
    "\n",
    "dataset = pd.read_csv('diabetes.csv')\n",
    "print (len(dataset))\n",
    "print (dataset.head())\n",
    "\n",
    "#data Preprocessing\n",
    "zero_not_accepted = ['Glucose','BloodPressure','SkinThickness','BMI','Insulin']\n",
    "for column in zero_not_accepted:\n",
    "    dataset[column] = dataset[column].replace(0,np.NaN)\n",
    "    mean = int(dataset[column].mean(skipna=True))\n",
    "    dataset[column] = dataset[column].replace(np.NaN,mean)\n",
    "\n",
    "#split dataset\n",
    "x = dataset.iloc[: , 0:8]\n",
    "y = dataset.iloc[:, 8 ]\n",
    "X_train , X_test , y_train , y_test = train_test_split(x,y,random_state=0,test_size=0.2)\n",
    "\n",
    "#Feature scaling\n",
    "sc_X = StandardScaler()\n",
    "X_train = sc_X.fit_transform(X_train)\n",
    "X_test = sc_X.transform(X_test)\n",
    "\n",
    "#Define the model :Init K-NN\n",
    "classifier = KNeighborsClassifier(n_neighbors = 11,p=2 , metric = 'euclidean')\n",
    "classifier.fit(X_train,y_train)\n",
    "\n",
    "#Predict the test result\n",
    "y_predict = classifier.predict(X_test)\n",
    "print(y_predict)\n",
    "\n",
    "#Evaluate the model\n",
    "cm = confusion_matrix(y_test , y_predict)\n",
    "print(cm)\n",
    "print(f1_score(y_test,y_predict))\n",
    "print(accuracy_score(y_test,y_predict))"
   ]
  }
 ],
 "metadata": {
  "kernelspec": {
   "display_name": "Python 3",
   "language": "python",
   "name": "python3"
  },
  "language_info": {
   "codemirror_mode": {
    "name": "ipython",
    "version": 3
   },
   "file_extension": ".py",
   "mimetype": "text/x-python",
   "name": "python",
   "nbconvert_exporter": "python",
   "pygments_lexer": "ipython3",
   "version": "3.8.8"
  }
 },
 "nbformat": 4,
 "nbformat_minor": 5
}
