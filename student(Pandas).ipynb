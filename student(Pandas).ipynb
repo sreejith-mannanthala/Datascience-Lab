{
 "cells": [
  {
   "cell_type": "code",
   "execution_count": 40,
   "id": "5f07bf43",
   "metadata": {},
   "outputs": [
    {
     "name": "stdout",
     "output_type": "stream",
     "text": [
      "\n",
      "\n",
      "\n",
      "\n",
      "Before Sorting\n",
      "--------------\n",
      "   RollNo          name Department Semester\n",
      "0       1       Lekshmi        MCA       s1\n",
      "1       2   Krishnaveni        MCA       s2\n",
      "2       3       Neeraja        CSE       s1\n",
      "3       4        Sheena       MECH       s2\n",
      "4       5  Shivashankar        MBA       s1\n",
      "\n",
      "\n",
      "\n",
      "After Sorting\n",
      "--------------\n"
     ]
    },
    {
     "data": {
      "text/html": [
       "<div>\n",
       "<style scoped>\n",
       "    .dataframe tbody tr th:only-of-type {\n",
       "        vertical-align: middle;\n",
       "    }\n",
       "\n",
       "    .dataframe tbody tr th {\n",
       "        vertical-align: top;\n",
       "    }\n",
       "\n",
       "    .dataframe thead th {\n",
       "        text-align: right;\n",
       "    }\n",
       "</style>\n",
       "<table border=\"1\" class=\"dataframe\">\n",
       "  <thead>\n",
       "    <tr style=\"text-align: right;\">\n",
       "      <th></th>\n",
       "      <th>RollNo</th>\n",
       "      <th>name</th>\n",
       "      <th>Department</th>\n",
       "      <th>Semester</th>\n",
       "    </tr>\n",
       "  </thead>\n",
       "  <tbody>\n",
       "    <tr>\n",
       "      <th>4</th>\n",
       "      <td>5</td>\n",
       "      <td>Shivashankar</td>\n",
       "      <td>MBA</td>\n",
       "      <td>s1</td>\n",
       "    </tr>\n",
       "    <tr>\n",
       "      <th>3</th>\n",
       "      <td>4</td>\n",
       "      <td>Sheena</td>\n",
       "      <td>MECH</td>\n",
       "      <td>s2</td>\n",
       "    </tr>\n",
       "    <tr>\n",
       "      <th>2</th>\n",
       "      <td>3</td>\n",
       "      <td>Neeraja</td>\n",
       "      <td>CSE</td>\n",
       "      <td>s1</td>\n",
       "    </tr>\n",
       "    <tr>\n",
       "      <th>0</th>\n",
       "      <td>1</td>\n",
       "      <td>Lekshmi</td>\n",
       "      <td>MCA</td>\n",
       "      <td>s1</td>\n",
       "    </tr>\n",
       "    <tr>\n",
       "      <th>1</th>\n",
       "      <td>2</td>\n",
       "      <td>Krishnaveni</td>\n",
       "      <td>MCA</td>\n",
       "      <td>s2</td>\n",
       "    </tr>\n",
       "  </tbody>\n",
       "</table>\n",
       "</div>"
      ],
      "text/plain": [
       "   RollNo          name Department Semester\n",
       "4       5  Shivashankar        MBA       s1\n",
       "3       4        Sheena       MECH       s2\n",
       "2       3       Neeraja        CSE       s1\n",
       "0       1       Lekshmi        MCA       s1\n",
       "1       2   Krishnaveni        MCA       s2"
      ]
     },
     "execution_count": 40,
     "metadata": {},
     "output_type": "execute_result"
    }
   ],
   "source": [
    "import pandas as pd\n",
    "import numpy as np\n",
    "\n",
    "student = {'RollNo':[1,2,3,4,5],\n",
    "           'name':['Lekshmi','Krishnaveni','Neeraja','Sheena','Shivashankar'],\n",
    "          'Department':['MCA','MCA','CSE','MECH','MBA'],\n",
    "          'Semester':['s1','s2','s1','s2','s1']}\n",
    "df=pd.DataFrame(student)\n",
    "print(\"\\n\\n\\n\\nBefore Sorting\")\n",
    "print(\"--------------\")\n",
    "print(df)\n",
    "print(\"\\n\\n\\nAfter Sorting\")\n",
    "print(\"--------------\")\n",
    "df.sort_values(by=['name','RollNo'], ascending=False)"
   ]
  },
  {
   "cell_type": "code",
   "execution_count": null,
   "id": "8c96c0f9",
   "metadata": {},
   "outputs": [],
   "source": []
  }
 ],
 "metadata": {
  "kernelspec": {
   "display_name": "Python 3",
   "language": "python",
   "name": "python3"
  },
  "language_info": {
   "codemirror_mode": {
    "name": "ipython",
    "version": 3
   },
   "file_extension": ".py",
   "mimetype": "text/x-python",
   "name": "python",
   "nbconvert_exporter": "python",
   "pygments_lexer": "ipython3",
   "version": "3.8.8"
  }
 },
 "nbformat": 4,
 "nbformat_minor": 5
}
