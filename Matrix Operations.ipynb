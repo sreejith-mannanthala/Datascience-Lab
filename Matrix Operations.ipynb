{
 "cells": [
  {
   "cell_type": "code",
   "execution_count": 14,
   "id": "ded6b8ac",
   "metadata": {},
   "outputs": [
    {
     "name": "stdout",
     "output_type": "stream",
     "text": [
      "type: <class 'numpy.ndarray'>\n",
      "Shape: 3\n",
      "1 2 3\n",
      "[5 2 3]\n",
      "\n",
      " Shape of b:  (2, 3)\n",
      "1 2 4\n",
      "\n",
      "All Zeros matrix :\n",
      " [[0. 0.]\n",
      " [0. 0.]]\n",
      "\n",
      "All ones matrix :\n",
      " [[1. 1.]]\n",
      "\n",
      "Identity Matrix :\n",
      " [[1. 0. 0.]\n",
      " [0. 1. 0.]\n",
      " [0. 0. 1.]]\n",
      "\n",
      " Random Matrix : \n",
      " [[0.15666626 0.24815406]\n",
      " [0.07357485 0.88711852]]\n",
      "\n",
      "Vectorized sum example \n",
      "\n",
      "X : \n",
      " [[1 2]\n",
      " [3 4]]\n",
      "\n",
      "Sum : 10\n",
      "\n",
      "Sum axis = 0: [4 6]\n",
      "\n",
      "Sum axis = 1: [3 7]\n",
      "\n",
      "Dot Product :-1724114088 \n",
      "\n",
      "\n",
      " outer product :[[       0        0        0 ...        0        0        0]\n",
      " [       0        1        2 ...     9997     9998     9999]\n",
      " [       0        2        4 ...    19994    19996    19998]\n",
      " ...\n",
      " [       0     9997    19994 ... 99940009 99950006 99960003]\n",
      " [       0     9998    19996 ... 99950006 99960004 99970002]\n",
      " [       0     9999    19998 ... 99960003 99970002 99980001]] \n",
      "\n",
      "\n",
      " Element wise product: [       0        1        4 ... 99940009 99960004 99980001] \n",
      "\n"
     ]
    }
   ],
   "source": [
    "import numpy as np\n",
    "a = np.array([1,2,3])\n",
    "print(\"type: %s\"%type(a))\n",
    "print(\"Shape: %s\"%a.shape)\n",
    "print(a[0],a[1],a[2])\n",
    "a[0]=5\n",
    "print(a)\n",
    "b= np.array([[1,2,3],[4,5,6]])\n",
    "print(\"\\n Shape of b: \",b.shape)\n",
    "print(b[0,0],b[0,1],b[1,0])\n",
    "a = np.zeros((2,2))\n",
    "print(\"\\nAll Zeros matrix :\\n %s\"%a)\n",
    "b = np.ones((1,2))\n",
    "print(\"\\nAll ones matrix :\\n %s\"%b)\n",
    "d = np.eye(2)\n",
    "print(\"\\nIdentity Matrix :\\n %s\"%d)\n",
    "e = np.random.random((2,2))\n",
    "print(\"\\n Random Matrix : \\n %s\"%e)\n",
    "print(\"\\nVectorized sum example \\n\")\n",
    "x = np.array([[1,2],[3,4]])\n",
    "print(\"X : \\n %s\"%x)\n",
    "print(\"\\nSum : %s\"%np.sum(x))\n",
    "print(\"\\nSum axis = 0: %s\"%np.sum(x,axis=0))\n",
    "print(\"\\nSum axis = 1: %s\"%np.sum(x,axis=1))\n",
    "a=np.arange(10000)\n",
    "b=np.arange(10000)\n",
    "dp=np.dot(a,b)\n",
    "print(\"\\nDot Product :%s \\n\"%dp)\n",
    "op=np.outer(a,b)\n",
    "print(\"\\n outer product :%s \\n\"%op)\n",
    "ep = np.multiply(a,b)\n",
    "print(\"\\n Element wise product: %s \\n\"%ep)"
   ]
  },
  {
   "cell_type": "code",
   "execution_count": 15,
   "id": "0d8727d0",
   "metadata": {},
   "outputs": [
    {
     "name": "stdout",
     "output_type": "stream",
     "text": [
      "Orginal x: \n",
      "[[1 2]\n",
      " [3 4]]\n",
      "\n",
      " Transpose of x :\n",
      " [[1 3]\n",
      " [2 4]]\n"
     ]
    }
   ],
   "source": [
    "import numpy  as np\n",
    "x = np.array([[1,2],[3,4]])\n",
    "print(\"Orginal x: \\n%s\"%x)\n",
    "print(\"\\n Transpose of x :\\n %s\"%x.T)"
   ]
  },
  {
   "cell_type": "code",
   "execution_count": 16,
   "id": "5ec997bb",
   "metadata": {},
   "outputs": [
    {
     "name": "stdout",
     "output_type": "stream",
     "text": [
      "A :\n",
      " [[1 2]\n",
      " [3 4]\n",
      " [5 6]]\n",
      "\n",
      " U: \n",
      " [[-0.2298477   0.88346102  0.40824829]\n",
      " [-0.52474482  0.24078249 -0.81649658]\n",
      " [-0.81964194 -0.40189603  0.40824829]]\n",
      "\n",
      " S: \n",
      " [9.52551809 0.51430058]\n",
      "\n",
      " VT: \n",
      " [[-0.61962948 -0.78489445]\n",
      " [-0.78489445  0.61962948]]\n"
     ]
    }
   ],
   "source": [
    "from numpy import array\n",
    "from scipy.linalg import svd\n",
    "A = array([[1,2],[3,4],[5,6]])\n",
    "print(\"A :\\n %s\"%A)\n",
    "u,s,vt = svd(A)\n",
    "print(\"\\n U: \\n %s\"%u)\n",
    "print(\"\\n S: \\n %s\"%s)\n",
    "print(\"\\n VT: \\n %s\"%vt)"
   ]
  },
  {
   "cell_type": "code",
   "execution_count": null,
   "id": "e134396c",
   "metadata": {},
   "outputs": [],
   "source": [
    "\n"
   ]
  }
 ],
 "metadata": {
  "kernelspec": {
   "display_name": "Python 3 (ipykernel)",
   "language": "python",
   "name": "python3"
  },
  "language_info": {
   "codemirror_mode": {
    "name": "ipython",
    "version": 3
   },
   "file_extension": ".py",
   "mimetype": "text/x-python",
   "name": "python",
   "nbconvert_exporter": "python",
   "pygments_lexer": "ipython3",
   "version": "3.9.12"
  }
 },
 "nbformat": 4,
 "nbformat_minor": 5
}
